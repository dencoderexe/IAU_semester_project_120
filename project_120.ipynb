{
 "cells": [
  {
   "cell_type": "markdown",
   "id": "76bf4b08",
   "metadata": {},
   "source": [
    "# Phase 1"
   ]
  },
  {
   "cell_type": "markdown",
   "id": "017f4963",
   "metadata": {},
   "source": [
    "## 1.1"
   ]
  },
  {
   "cell_type": "markdown",
   "id": "105e8978",
   "metadata": {},
   "source": [
    "### A"
   ]
  },
  {
   "cell_type": "markdown",
   "id": "7e081ae5",
   "metadata": {},
   "source": [
    "The input data consists of three `.csv` files containing information about patients, stations, and observations."
   ]
  },
  {
   "cell_type": "code",
   "execution_count": 1,
   "id": "63d9fc41",
   "metadata": {},
   "outputs": [
    {
     "name": "stdout",
     "output_type": "stream",
     "text": [
      "patient.csv: 354346 Bytes\n",
      "station.csv: 46128 Bytes\n",
      "observation.csv: 4700498 Bytes\n"
     ]
    }
   ],
   "source": [
    "import os\n",
    "\n",
    "data_path = './120/'\n",
    "\n",
    "for f in os.listdir(data_path):\n",
    "    print(f\"{f}: {os.path.getsize(data_path + f)} Bytes\")"
   ]
  },
  {
   "cell_type": "code",
   "execution_count": 2,
   "id": "357416e7",
   "metadata": {},
   "outputs": [],
   "source": [
    "import pandas as pd\n",
    "\n",
    "# load data from .csv files\n",
    "delimiter = '\\t'\n",
    "patient = pd.read_csv(data_path + 'patient.csv', delimiter=delimiter)\n",
    "station = pd.read_csv(data_path + 'station.csv', delimiter=delimiter)\n",
    "observation = pd.read_csv(data_path + 'observation.csv', delimiter=delimiter)"
   ]
  },
  {
   "cell_type": "markdown",
   "id": "8bc2d40d",
   "metadata": {},
   "source": [
    "File `patient.csv`: \n",
    "\n",
    "Size: 354,346 bytes \\\n",
    "Number of rows: 2124 \\\n",
    "Number of attributes: 13 \\\n",
    "Attributes:\n",
    "| Attribute     | Type     |\n",
    "|----------------|----------|\n",
    "| username       | object   |\n",
    "| mail           | object   |\n",
    "| job            | object   |\n",
    "| address        | object   |\n",
    "| registration   | object   |\n",
    "| name           | object   |\n",
    "| blood_group    | object   |\n",
    "| residence      | float64  |\n",
    "| birthdate      | object   |\n",
    "| user_id        | int64    |\n",
    "| ssn            | object   |\n",
    "| company        | object   |\n",
    "| station_ID     | int64    |"
   ]
  },
  {
   "cell_type": "code",
   "execution_count": 3,
   "id": "3c1f9b51",
   "metadata": {},
   "outputs": [
    {
     "name": "stdout",
     "output_type": "stream",
     "text": [
      "<class 'pandas.core.frame.DataFrame'>\n",
      "RangeIndex: 2124 entries, 0 to 2123\n",
      "Data columns (total 13 columns):\n",
      " #   Column        Non-Null Count  Dtype  \n",
      "---  ------        --------------  -----  \n",
      " 0   username      2124 non-null   object \n",
      " 1   mail          2124 non-null   object \n",
      " 2   job           637 non-null    object \n",
      " 3   address       1805 non-null   object \n",
      " 4   registration  2124 non-null   object \n",
      " 5   name          2124 non-null   object \n",
      " 6   blood_group   2124 non-null   object \n",
      " 7   residence     0 non-null      float64\n",
      " 8   birthdate     1168 non-null   object \n",
      " 9   user_id       2124 non-null   int64  \n",
      " 10  ssn           2124 non-null   object \n",
      " 11  company       2124 non-null   object \n",
      " 12  station_ID    2124 non-null   int64  \n",
      "dtypes: float64(1), int64(2), object(10)\n",
      "memory usage: 215.8+ KB\n"
     ]
    },
    {
     "data": {
      "text/html": [
       "<div>\n",
       "<style scoped>\n",
       "    .dataframe tbody tr th:only-of-type {\n",
       "        vertical-align: middle;\n",
       "    }\n",
       "\n",
       "    .dataframe tbody tr th {\n",
       "        vertical-align: top;\n",
       "    }\n",
       "\n",
       "    .dataframe thead th {\n",
       "        text-align: right;\n",
       "    }\n",
       "</style>\n",
       "<table border=\"1\" class=\"dataframe\">\n",
       "  <thead>\n",
       "    <tr style=\"text-align: right;\">\n",
       "      <th></th>\n",
       "      <th>username</th>\n",
       "      <th>mail</th>\n",
       "      <th>job</th>\n",
       "      <th>address</th>\n",
       "      <th>registration</th>\n",
       "      <th>name</th>\n",
       "      <th>blood_group</th>\n",
       "      <th>residence</th>\n",
       "      <th>birthdate</th>\n",
       "      <th>user_id</th>\n",
       "      <th>ssn</th>\n",
       "      <th>company</th>\n",
       "      <th>station_ID</th>\n",
       "    </tr>\n",
       "  </thead>\n",
       "  <tbody>\n",
       "    <tr>\n",
       "      <th>0</th>\n",
       "      <td>paulina59</td>\n",
       "      <td>vincenza05@libero.it</td>\n",
       "      <td>NaN</td>\n",
       "      <td>Rotonda Matilda, 169\\n57014, Crocino (LI)</td>\n",
       "      <td>2024-12-02</td>\n",
       "      <td>Bruno Legnante-Pincherle</td>\n",
       "      <td>AB-</td>\n",
       "      <td>NaN</td>\n",
       "      <td>NaN</td>\n",
       "      <td>634</td>\n",
       "      <td>CRNTTE88H08D352G</td>\n",
       "      <td>Mengolo-Vivaldi s.r.l.</td>\n",
       "      <td>607</td>\n",
       "    </tr>\n",
       "    <tr>\n",
       "      <th>1</th>\n",
       "      <td>unakamura</td>\n",
       "      <td>imatsumoto@gmail.com</td>\n",
       "      <td>NaN</td>\n",
       "      <td>兵庫県川崎市高津区箭坪8丁目22番17号 橋場ハイツ987</td>\n",
       "      <td>19 Aug 2024</td>\n",
       "      <td>高橋 里佳</td>\n",
       "      <td>A+</td>\n",
       "      <td>NaN</td>\n",
       "      <td>1994-09-02</td>\n",
       "      <td>1577</td>\n",
       "      <td>631-24-8857</td>\n",
       "      <td>近藤電気合同会社</td>\n",
       "      <td>69</td>\n",
       "    </tr>\n",
       "    <tr>\n",
       "      <th>2</th>\n",
       "      <td>sandrogarzoni</td>\n",
       "      <td>spallanzanisilvestro@tin.it</td>\n",
       "      <td>NaN</td>\n",
       "      <td>Borgo Patrizio, 18 Appartamento 81\\n43040, Var...</td>\n",
       "      <td>11 Mar 2025</td>\n",
       "      <td>Stella Zaccagnini</td>\n",
       "      <td>O+</td>\n",
       "      <td>NaN</td>\n",
       "      <td>NaN</td>\n",
       "      <td>360</td>\n",
       "      <td>RFFFLP44A09G036G</td>\n",
       "      <td>Guariento Group</td>\n",
       "      <td>25</td>\n",
       "    </tr>\n",
       "    <tr>\n",
       "      <th>3</th>\n",
       "      <td>hanako08</td>\n",
       "      <td>naokoishikawa@hotmail.com</td>\n",
       "      <td>NaN</td>\n",
       "      <td>福島県港区南赤田42丁目27番17号</td>\n",
       "      <td>02/20/2020, 00:00:00</td>\n",
       "      <td>山崎 桃子</td>\n",
       "      <td>AB+</td>\n",
       "      <td>NaN</td>\n",
       "      <td>NaN</td>\n",
       "      <td>496</td>\n",
       "      <td>492-47-8815</td>\n",
       "      <td>長谷川銀行合同会社</td>\n",
       "      <td>365</td>\n",
       "    </tr>\n",
       "    <tr>\n",
       "      <th>4</th>\n",
       "      <td>ajones</td>\n",
       "      <td>bauergloria@yahoo.com</td>\n",
       "      <td>NaN</td>\n",
       "      <td>800 Jennifer Hills\\nNew Christianville, SD 66147</td>\n",
       "      <td>20 May 2020</td>\n",
       "      <td>Bethany Joyce</td>\n",
       "      <td>AB+</td>\n",
       "      <td>NaN</td>\n",
       "      <td>1953-11-10</td>\n",
       "      <td>960</td>\n",
       "      <td>686-81-7668</td>\n",
       "      <td>Fitzpatrick and Sons</td>\n",
       "      <td>156</td>\n",
       "    </tr>\n",
       "  </tbody>\n",
       "</table>\n",
       "</div>"
      ],
      "text/plain": [
       "        username                         mail  job  \\\n",
       "0      paulina59         vincenza05@libero.it  NaN   \n",
       "1      unakamura         imatsumoto@gmail.com  NaN   \n",
       "2  sandrogarzoni  spallanzanisilvestro@tin.it  NaN   \n",
       "3       hanako08    naokoishikawa@hotmail.com  NaN   \n",
       "4         ajones        bauergloria@yahoo.com  NaN   \n",
       "\n",
       "                                             address          registration  \\\n",
       "0          Rotonda Matilda, 169\\n57014, Crocino (LI)            2024-12-02   \n",
       "1                      兵庫県川崎市高津区箭坪8丁目22番17号 橋場ハイツ987           19 Aug 2024   \n",
       "2  Borgo Patrizio, 18 Appartamento 81\\n43040, Var...           11 Mar 2025   \n",
       "3                                 福島県港区南赤田42丁目27番17号  02/20/2020, 00:00:00   \n",
       "4   800 Jennifer Hills\\nNew Christianville, SD 66147           20 May 2020   \n",
       "\n",
       "                       name blood_group  residence   birthdate  user_id  \\\n",
       "0  Bruno Legnante-Pincherle         AB-        NaN         NaN      634   \n",
       "1                     高橋 里佳          A+        NaN  1994-09-02     1577   \n",
       "2         Stella Zaccagnini          O+        NaN         NaN      360   \n",
       "3                     山崎 桃子         AB+        NaN         NaN      496   \n",
       "4             Bethany Joyce         AB+        NaN  1953-11-10      960   \n",
       "\n",
       "                ssn                 company  station_ID  \n",
       "0  CRNTTE88H08D352G  Mengolo-Vivaldi s.r.l.         607  \n",
       "1       631-24-8857                近藤電気合同会社          69  \n",
       "2  RFFFLP44A09G036G         Guariento Group          25  \n",
       "3       492-47-8815               長谷川銀行合同会社         365  \n",
       "4       686-81-7668    Fitzpatrick and Sons         156  "
      ]
     },
     "execution_count": 3,
     "metadata": {},
     "output_type": "execute_result"
    }
   ],
   "source": [
    "patient.info()\n",
    "patient.head()"
   ]
  },
  {
   "cell_type": "markdown",
   "id": "2e7c20cd",
   "metadata": {},
   "source": [
    "File `station.csv`:\n",
    "\n",
    "Size: 46,128 Bytes \\\n",
    "Number of rows: 776 \\\n",
    "Number of attributes: 6 \\\n",
    "Attributes:\n",
    "| Attribute | Type     |\n",
    "|------------|----------|\n",
    "| longitude  | float64  |\n",
    "| location   | object   |\n",
    "| code       | object   |\n",
    "| revision   | object   |\n",
    "| station    | object   |\n",
    "| latitude   | float64  |"
   ]
  },
  {
   "cell_type": "code",
   "execution_count": 4,
   "id": "809fd169",
   "metadata": {},
   "outputs": [
    {
     "name": "stdout",
     "output_type": "stream",
     "text": [
      "<class 'pandas.core.frame.DataFrame'>\n",
      "RangeIndex: 776 entries, 0 to 775\n",
      "Data columns (total 6 columns):\n",
      " #   Column     Non-Null Count  Dtype  \n",
      "---  ------     --------------  -----  \n",
      " 0   longitude  776 non-null    float64\n",
      " 1   location   776 non-null    object \n",
      " 2   code       776 non-null    object \n",
      " 3   revision   776 non-null    object \n",
      " 4   station    776 non-null    object \n",
      " 5   latitude   776 non-null    float64\n",
      "dtypes: float64(2), object(4)\n",
      "memory usage: 36.5+ KB\n"
     ]
    },
    {
     "data": {
      "text/html": [
       "<div>\n",
       "<style scoped>\n",
       "    .dataframe tbody tr th:only-of-type {\n",
       "        vertical-align: middle;\n",
       "    }\n",
       "\n",
       "    .dataframe tbody tr th {\n",
       "        vertical-align: top;\n",
       "    }\n",
       "\n",
       "    .dataframe thead th {\n",
       "        text-align: right;\n",
       "    }\n",
       "</style>\n",
       "<table border=\"1\" class=\"dataframe\">\n",
       "  <thead>\n",
       "    <tr style=\"text-align: right;\">\n",
       "      <th></th>\n",
       "      <th>longitude</th>\n",
       "      <th>location</th>\n",
       "      <th>code</th>\n",
       "      <th>revision</th>\n",
       "      <th>station</th>\n",
       "      <th>latitude</th>\n",
       "    </tr>\n",
       "  </thead>\n",
       "  <tbody>\n",
       "    <tr>\n",
       "      <th>0</th>\n",
       "      <td>-74.28459</td>\n",
       "      <td>America/New_York</td>\n",
       "      <td>US</td>\n",
       "      <td>2024/10/10</td>\n",
       "      <td>Woodbridge</td>\n",
       "      <td>40.55760</td>\n",
       "    </tr>\n",
       "    <tr>\n",
       "      <th>1</th>\n",
       "      <td>7.11393</td>\n",
       "      <td>Europe/Berlin</td>\n",
       "      <td>DE</td>\n",
       "      <td>2024-07-30</td>\n",
       "      <td>Burscheid</td>\n",
       "      <td>51.08468</td>\n",
       "    </tr>\n",
       "    <tr>\n",
       "      <th>2</th>\n",
       "      <td>84.63445</td>\n",
       "      <td>Asia/Kolkata</td>\n",
       "      <td>IN</td>\n",
       "      <td>29 Jan 2023</td>\n",
       "      <td>Rafiganj</td>\n",
       "      <td>24.81757</td>\n",
       "    </tr>\n",
       "    <tr>\n",
       "      <th>3</th>\n",
       "      <td>-8.53778</td>\n",
       "      <td>Africa/Monrovia</td>\n",
       "      <td>LR</td>\n",
       "      <td>13 Aug 2018</td>\n",
       "      <td>New Yekepa</td>\n",
       "      <td>7.57944</td>\n",
       "    </tr>\n",
       "    <tr>\n",
       "      <th>4</th>\n",
       "      <td>-5.53715</td>\n",
       "      <td>Europe/London</td>\n",
       "      <td>GB</td>\n",
       "      <td>13 Jan 2018</td>\n",
       "      <td>Penzance</td>\n",
       "      <td>50.11861</td>\n",
       "    </tr>\n",
       "  </tbody>\n",
       "</table>\n",
       "</div>"
      ],
      "text/plain": [
       "   longitude          location code     revision     station  latitude\n",
       "0  -74.28459  America/New_York   US   2024/10/10  Woodbridge  40.55760\n",
       "1    7.11393     Europe/Berlin   DE   2024-07-30   Burscheid  51.08468\n",
       "2   84.63445      Asia/Kolkata   IN  29 Jan 2023    Rafiganj  24.81757\n",
       "3   -8.53778   Africa/Monrovia   LR  13 Aug 2018  New Yekepa   7.57944\n",
       "4   -5.53715     Europe/London   GB  13 Jan 2018    Penzance  50.11861"
      ]
     },
     "execution_count": 4,
     "metadata": {},
     "output_type": "execute_result"
    }
   ],
   "source": [
    "station.info()\n",
    "station.head()"
   ]
  },
  {
   "cell_type": "markdown",
   "id": "7feb170c",
   "metadata": {},
   "source": [
    "File `observation.csv`:\n",
    "\n",
    "Size: 4,700,498 Bytes \\\n",
    "Number of rows: 10800 \\\n",
    "Number of attributes: 23 \\\n",
    "Attributes:\n",
    "| Attribute               | Type     |\n",
    "|--------------------------|----------|\n",
    "| SpO₂                     | float64  |\n",
    "| HR                       | float64  |\n",
    "| PI                       | float64  |\n",
    "| RR                       | float64  |\n",
    "| EtCO₂                    | float64  |\n",
    "| FiO₂                     | float64  |\n",
    "| PRV                      | float64  |\n",
    "| BP                       | float64  |\n",
    "| Skin Temperature         | float64  |\n",
    "| Motion/Activity index    | float64  |\n",
    "| PVI                      | float64  |\n",
    "| Hb level                 | float64  |\n",
    "| SV                       | float64  |\n",
    "| CO                       | float64  |\n",
    "| Blood Flow Index         | float64  |\n",
    "| PPG waveform features    | float64  |\n",
    "| Signal Quality Index     | float64  |\n",
    "| Respiratory effort       | float64  |\n",
    "| O₂ extraction ratio      | float64  |\n",
    "| SNR                      | float64  |\n",
    "| oximetry                 | float64  |\n",
    "| latitude                 | float64  |\n",
    "| longitude                | float64  |"
   ]
  },
  {
   "cell_type": "code",
   "execution_count": 5,
   "id": "196dc67e",
   "metadata": {},
   "outputs": [
    {
     "name": "stdout",
     "output_type": "stream",
     "text": [
      "<class 'pandas.core.frame.DataFrame'>\n",
      "RangeIndex: 10800 entries, 0 to 10799\n",
      "Data columns (total 23 columns):\n",
      " #   Column                 Non-Null Count  Dtype  \n",
      "---  ------                 --------------  -----  \n",
      " 0   SpO₂                   10800 non-null  float64\n",
      " 1   HR                     10800 non-null  float64\n",
      " 2   PI                     10800 non-null  float64\n",
      " 3   RR                     10800 non-null  float64\n",
      " 4   EtCO₂                  10800 non-null  float64\n",
      " 5   FiO₂                   10800 non-null  float64\n",
      " 6   PRV                    10800 non-null  float64\n",
      " 7   BP                     10800 non-null  float64\n",
      " 8   Skin Temperature       10800 non-null  float64\n",
      " 9   Motion/Activity index  10800 non-null  float64\n",
      " 10  PVI                    10800 non-null  float64\n",
      " 11  Hb level               10800 non-null  float64\n",
      " 12  SV                     10800 non-null  float64\n",
      " 13  CO                     10800 non-null  float64\n",
      " 14  Blood Flow Index       10800 non-null  float64\n",
      " 15  PPG waveform features  10800 non-null  float64\n",
      " 16  Signal Quality Index   10800 non-null  float64\n",
      " 17  Respiratory effort     10800 non-null  float64\n",
      " 18  O₂ extraction ratio    10800 non-null  float64\n",
      " 19  SNR                    10800 non-null  float64\n",
      " 20  oximetry               10800 non-null  float64\n",
      " 21  latitude               10800 non-null  float64\n",
      " 22  longitude              10799 non-null  float64\n",
      "dtypes: float64(23)\n",
      "memory usage: 1.9 MB\n"
     ]
    },
    {
     "data": {
      "text/html": [
       "<div>\n",
       "<style scoped>\n",
       "    .dataframe tbody tr th:only-of-type {\n",
       "        vertical-align: middle;\n",
       "    }\n",
       "\n",
       "    .dataframe tbody tr th {\n",
       "        vertical-align: top;\n",
       "    }\n",
       "\n",
       "    .dataframe thead th {\n",
       "        text-align: right;\n",
       "    }\n",
       "</style>\n",
       "<table border=\"1\" class=\"dataframe\">\n",
       "  <thead>\n",
       "    <tr style=\"text-align: right;\">\n",
       "      <th></th>\n",
       "      <th>SpO₂</th>\n",
       "      <th>HR</th>\n",
       "      <th>PI</th>\n",
       "      <th>RR</th>\n",
       "      <th>EtCO₂</th>\n",
       "      <th>FiO₂</th>\n",
       "      <th>PRV</th>\n",
       "      <th>BP</th>\n",
       "      <th>Skin Temperature</th>\n",
       "      <th>Motion/Activity index</th>\n",
       "      <th>...</th>\n",
       "      <th>CO</th>\n",
       "      <th>Blood Flow Index</th>\n",
       "      <th>PPG waveform features</th>\n",
       "      <th>Signal Quality Index</th>\n",
       "      <th>Respiratory effort</th>\n",
       "      <th>O₂ extraction ratio</th>\n",
       "      <th>SNR</th>\n",
       "      <th>oximetry</th>\n",
       "      <th>latitude</th>\n",
       "      <th>longitude</th>\n",
       "    </tr>\n",
       "  </thead>\n",
       "  <tbody>\n",
       "    <tr>\n",
       "      <th>0</th>\n",
       "      <td>98.057687</td>\n",
       "      <td>81.561900</td>\n",
       "      <td>9.634841</td>\n",
       "      <td>15.794092</td>\n",
       "      <td>38.357063</td>\n",
       "      <td>70.144098</td>\n",
       "      <td>92.163941</td>\n",
       "      <td>99.321851</td>\n",
       "      <td>35.916763</td>\n",
       "      <td>7.798693</td>\n",
       "      <td>...</td>\n",
       "      <td>4.002487</td>\n",
       "      <td>59.928273</td>\n",
       "      <td>55.124002</td>\n",
       "      <td>62.925756</td>\n",
       "      <td>33.555239</td>\n",
       "      <td>0.241442</td>\n",
       "      <td>36.157403</td>\n",
       "      <td>0.0</td>\n",
       "      <td>33.76446</td>\n",
       "      <td>-117.79394</td>\n",
       "    </tr>\n",
       "    <tr>\n",
       "      <th>1</th>\n",
       "      <td>98.237816</td>\n",
       "      <td>91.922786</td>\n",
       "      <td>13.519149</td>\n",
       "      <td>17.994040</td>\n",
       "      <td>36.957369</td>\n",
       "      <td>68.604381</td>\n",
       "      <td>78.197845</td>\n",
       "      <td>103.692629</td>\n",
       "      <td>34.995809</td>\n",
       "      <td>8.316729</td>\n",
       "      <td>...</td>\n",
       "      <td>4.143390</td>\n",
       "      <td>75.075702</td>\n",
       "      <td>39.349704</td>\n",
       "      <td>42.434930</td>\n",
       "      <td>55.008367</td>\n",
       "      <td>0.260622</td>\n",
       "      <td>28.446366</td>\n",
       "      <td>1.0</td>\n",
       "      <td>52.45810</td>\n",
       "      <td>13.28702</td>\n",
       "    </tr>\n",
       "    <tr>\n",
       "      <th>2</th>\n",
       "      <td>97.577230</td>\n",
       "      <td>85.449842</td>\n",
       "      <td>10.051098</td>\n",
       "      <td>15.246586</td>\n",
       "      <td>38.209241</td>\n",
       "      <td>55.653927</td>\n",
       "      <td>126.801787</td>\n",
       "      <td>101.691015</td>\n",
       "      <td>35.523631</td>\n",
       "      <td>8.979466</td>\n",
       "      <td>...</td>\n",
       "      <td>4.010376</td>\n",
       "      <td>35.361168</td>\n",
       "      <td>39.482841</td>\n",
       "      <td>56.390250</td>\n",
       "      <td>74.881875</td>\n",
       "      <td>0.206879</td>\n",
       "      <td>27.984798</td>\n",
       "      <td>1.0</td>\n",
       "      <td>44.92934</td>\n",
       "      <td>37.99117</td>\n",
       "    </tr>\n",
       "    <tr>\n",
       "      <th>3</th>\n",
       "      <td>97.216777</td>\n",
       "      <td>75.182277</td>\n",
       "      <td>11.845941</td>\n",
       "      <td>15.411316</td>\n",
       "      <td>38.034613</td>\n",
       "      <td>58.892038</td>\n",
       "      <td>140.348222</td>\n",
       "      <td>104.877599</td>\n",
       "      <td>35.750361</td>\n",
       "      <td>8.149849</td>\n",
       "      <td>...</td>\n",
       "      <td>4.000762</td>\n",
       "      <td>29.386672</td>\n",
       "      <td>41.344283</td>\n",
       "      <td>62.346638</td>\n",
       "      <td>69.884494</td>\n",
       "      <td>0.224859</td>\n",
       "      <td>37.210683</td>\n",
       "      <td>0.0</td>\n",
       "      <td>43.32393</td>\n",
       "      <td>5.45840</td>\n",
       "    </tr>\n",
       "    <tr>\n",
       "      <th>4</th>\n",
       "      <td>97.612658</td>\n",
       "      <td>90.212598</td>\n",
       "      <td>11.042576</td>\n",
       "      <td>16.769490</td>\n",
       "      <td>37.190540</td>\n",
       "      <td>54.631574</td>\n",
       "      <td>78.477997</td>\n",
       "      <td>109.071771</td>\n",
       "      <td>36.037151</td>\n",
       "      <td>7.784455</td>\n",
       "      <td>...</td>\n",
       "      <td>4.070999</td>\n",
       "      <td>38.118630</td>\n",
       "      <td>85.759457</td>\n",
       "      <td>47.176929</td>\n",
       "      <td>51.488496</td>\n",
       "      <td>0.208957</td>\n",
       "      <td>36.468848</td>\n",
       "      <td>1.0</td>\n",
       "      <td>42.16808</td>\n",
       "      <td>-88.42814</td>\n",
       "    </tr>\n",
       "  </tbody>\n",
       "</table>\n",
       "<p>5 rows × 23 columns</p>\n",
       "</div>"
      ],
      "text/plain": [
       "        SpO₂         HR         PI         RR      EtCO₂       FiO₂  \\\n",
       "0  98.057687  81.561900   9.634841  15.794092  38.357063  70.144098   \n",
       "1  98.237816  91.922786  13.519149  17.994040  36.957369  68.604381   \n",
       "2  97.577230  85.449842  10.051098  15.246586  38.209241  55.653927   \n",
       "3  97.216777  75.182277  11.845941  15.411316  38.034613  58.892038   \n",
       "4  97.612658  90.212598  11.042576  16.769490  37.190540  54.631574   \n",
       "\n",
       "          PRV          BP  Skin Temperature  Motion/Activity index  ...  \\\n",
       "0   92.163941   99.321851         35.916763               7.798693  ...   \n",
       "1   78.197845  103.692629         34.995809               8.316729  ...   \n",
       "2  126.801787  101.691015         35.523631               8.979466  ...   \n",
       "3  140.348222  104.877599         35.750361               8.149849  ...   \n",
       "4   78.477997  109.071771         36.037151               7.784455  ...   \n",
       "\n",
       "         CO  Blood Flow Index  PPG waveform features  Signal Quality Index  \\\n",
       "0  4.002487         59.928273              55.124002             62.925756   \n",
       "1  4.143390         75.075702              39.349704             42.434930   \n",
       "2  4.010376         35.361168              39.482841             56.390250   \n",
       "3  4.000762         29.386672              41.344283             62.346638   \n",
       "4  4.070999         38.118630              85.759457             47.176929   \n",
       "\n",
       "   Respiratory effort  O₂ extraction ratio        SNR  oximetry  latitude  \\\n",
       "0           33.555239             0.241442  36.157403       0.0  33.76446   \n",
       "1           55.008367             0.260622  28.446366       1.0  52.45810   \n",
       "2           74.881875             0.206879  27.984798       1.0  44.92934   \n",
       "3           69.884494             0.224859  37.210683       0.0  43.32393   \n",
       "4           51.488496             0.208957  36.468848       1.0  42.16808   \n",
       "\n",
       "   longitude  \n",
       "0 -117.79394  \n",
       "1   13.28702  \n",
       "2   37.99117  \n",
       "3    5.45840  \n",
       "4  -88.42814  \n",
       "\n",
       "[5 rows x 23 columns]"
      ]
     },
     "execution_count": 5,
     "metadata": {},
     "output_type": "execute_result"
    }
   ],
   "source": [
    "observation.info()\n",
    "observation.head()"
   ]
  },
  {
   "cell_type": "markdown",
   "id": "01a7ef61",
   "metadata": {},
   "source": [
    "Description of sensor variables:"
   ]
  },
  {
   "cell_type": "code",
   "execution_count": 6,
   "id": "a78466b2",
   "metadata": {},
   "outputs": [
    {
     "data": {
      "text/html": [
       "<div>\n",
       "<style scoped>\n",
       "    .dataframe tbody tr th:only-of-type {\n",
       "        vertical-align: middle;\n",
       "    }\n",
       "\n",
       "    .dataframe tbody tr th {\n",
       "        vertical-align: top;\n",
       "    }\n",
       "\n",
       "    .dataframe thead th {\n",
       "        text-align: right;\n",
       "    }\n",
       "</style>\n",
       "<table border=\"1\" class=\"dataframe\">\n",
       "  <thead>\n",
       "    <tr style=\"text-align: right;\">\n",
       "      <th></th>\n",
       "      <th>Variable</th>\n",
       "      <th>Unit</th>\n",
       "      <th>Description</th>\n",
       "      <th>Value Range</th>\n",
       "    </tr>\n",
       "  </thead>\n",
       "  <tbody>\n",
       "    <tr>\n",
       "      <th>0</th>\n",
       "      <td>SpO₂</td>\n",
       "      <td>%</td>\n",
       "      <td>Peripheral oxygen saturation</td>\n",
       "      <td>95–100%</td>\n",
       "    </tr>\n",
       "    <tr>\n",
       "      <th>1</th>\n",
       "      <td>HR</td>\n",
       "      <td>bpm</td>\n",
       "      <td>Heart rate from pulse oximeter</td>\n",
       "      <td>60–100 bpm</td>\n",
       "    </tr>\n",
       "    <tr>\n",
       "      <th>2</th>\n",
       "      <td>PI</td>\n",
       "      <td>%</td>\n",
       "      <td>Perfusion index</td>\n",
       "      <td>0.2–20%</td>\n",
       "    </tr>\n",
       "    <tr>\n",
       "      <th>3</th>\n",
       "      <td>RR</td>\n",
       "      <td>breaths/min</td>\n",
       "      <td>Respiratory rate</td>\n",
       "      <td>12–20 breaths/min</td>\n",
       "    </tr>\n",
       "    <tr>\n",
       "      <th>4</th>\n",
       "      <td>EtCO₂</td>\n",
       "      <td>mmHg</td>\n",
       "      <td>End-tidal carbon dioxide</td>\n",
       "      <td>35–45 mmHg</td>\n",
       "    </tr>\n",
       "    <tr>\n",
       "      <th>5</th>\n",
       "      <td>FiO₂</td>\n",
       "      <td>%</td>\n",
       "      <td>Fraction of inspired oxygen</td>\n",
       "      <td>21–100%</td>\n",
       "    </tr>\n",
       "    <tr>\n",
       "      <th>6</th>\n",
       "      <td>PRV</td>\n",
       "      <td>ms</td>\n",
       "      <td>Pulse rate variability</td>\n",
       "      <td>20–200 ms</td>\n",
       "    </tr>\n",
       "    <tr>\n",
       "      <th>7</th>\n",
       "      <td>BP</td>\n",
       "      <td>mmHg</td>\n",
       "      <td>Blood pressure (systolic diastolic mean)</td>\n",
       "      <td>90/60–120/80 mmHg</td>\n",
       "    </tr>\n",
       "    <tr>\n",
       "      <th>8</th>\n",
       "      <td>Skin Temperature</td>\n",
       "      <td>°C</td>\n",
       "      <td>Peripheral temperature</td>\n",
       "      <td>33–38 °C</td>\n",
       "    </tr>\n",
       "    <tr>\n",
       "      <th>9</th>\n",
       "      <td>Motion/Activity index</td>\n",
       "      <td>-</td>\n",
       "      <td>Sensor artifact correction</td>\n",
       "      <td>NaN</td>\n",
       "    </tr>\n",
       "    <tr>\n",
       "      <th>10</th>\n",
       "      <td>PVI</td>\n",
       "      <td>%</td>\n",
       "      <td>Pleth Variability Index</td>\n",
       "      <td>10–20%</td>\n",
       "    </tr>\n",
       "    <tr>\n",
       "      <th>11</th>\n",
       "      <td>Hb level</td>\n",
       "      <td>g/dL</td>\n",
       "      <td>Hemoglobin concentration</td>\n",
       "      <td>12–18 g/dL</td>\n",
       "    </tr>\n",
       "    <tr>\n",
       "      <th>12</th>\n",
       "      <td>SV</td>\n",
       "      <td>mL/beat</td>\n",
       "      <td>Stroke volume</td>\n",
       "      <td>60–100 mL/beat</td>\n",
       "    </tr>\n",
       "    <tr>\n",
       "      <th>13</th>\n",
       "      <td>CO</td>\n",
       "      <td>L/min</td>\n",
       "      <td>Cardiac output</td>\n",
       "      <td>4–8 L/min</td>\n",
       "    </tr>\n",
       "    <tr>\n",
       "      <th>14</th>\n",
       "      <td>Blood Flow Index</td>\n",
       "      <td>-</td>\n",
       "      <td>Optical/near-infrared blood flow measurement</td>\n",
       "      <td>Relative units</td>\n",
       "    </tr>\n",
       "    <tr>\n",
       "      <th>15</th>\n",
       "      <td>PPG waveform features</td>\n",
       "      <td>-</td>\n",
       "      <td>Photoplethysmography signal parameters</td>\n",
       "      <td>NaN</td>\n",
       "    </tr>\n",
       "    <tr>\n",
       "      <th>16</th>\n",
       "      <td>Signal Quality Index</td>\n",
       "      <td>-</td>\n",
       "      <td>Reliability indicator of readings</td>\n",
       "      <td>0–100</td>\n",
       "    </tr>\n",
       "    <tr>\n",
       "      <th>17</th>\n",
       "      <td>Respiratory effort</td>\n",
       "      <td>-</td>\n",
       "      <td>Chest impedance or belt-derived effort</td>\n",
       "      <td>NaN</td>\n",
       "    </tr>\n",
       "    <tr>\n",
       "      <th>18</th>\n",
       "      <td>O₂ extraction ratio</td>\n",
       "      <td>-</td>\n",
       "      <td>Calculated oxygen extraction metric</td>\n",
       "      <td>0.2–0.3</td>\n",
       "    </tr>\n",
       "    <tr>\n",
       "      <th>19</th>\n",
       "      <td>SNR</td>\n",
       "      <td>dB</td>\n",
       "      <td>Signal-to-noise ratio from sensor</td>\n",
       "      <td>20–40 dB</td>\n",
       "    </tr>\n",
       "  </tbody>\n",
       "</table>\n",
       "</div>"
      ],
      "text/plain": [
       "                 Variable         Unit  \\\n",
       "0                    SpO₂            %   \n",
       "1                      HR          bpm   \n",
       "2                      PI            %   \n",
       "3                      RR  breaths/min   \n",
       "4                   EtCO₂         mmHg   \n",
       "5                    FiO₂            %   \n",
       "6                     PRV           ms   \n",
       "7                      BP         mmHg   \n",
       "8        Skin Temperature           °C   \n",
       "9   Motion/Activity index            -   \n",
       "10                    PVI            %   \n",
       "11               Hb level         g/dL   \n",
       "12                     SV      mL/beat   \n",
       "13                     CO        L/min   \n",
       "14       Blood Flow Index            -   \n",
       "15  PPG waveform features            -   \n",
       "16   Signal Quality Index            -   \n",
       "17     Respiratory effort            -   \n",
       "18    O₂ extraction ratio            -   \n",
       "19                    SNR           dB   \n",
       "\n",
       "                                     Description        Value Range  \n",
       "0                   Peripheral oxygen saturation            95–100%  \n",
       "1                 Heart rate from pulse oximeter         60–100 bpm  \n",
       "2                                Perfusion index            0.2–20%  \n",
       "3                               Respiratory rate  12–20 breaths/min  \n",
       "4                       End-tidal carbon dioxide         35–45 mmHg  \n",
       "5                    Fraction of inspired oxygen            21–100%  \n",
       "6                         Pulse rate variability          20–200 ms  \n",
       "7       Blood pressure (systolic diastolic mean)  90/60–120/80 mmHg  \n",
       "8                         Peripheral temperature           33–38 °C  \n",
       "9                     Sensor artifact correction                NaN  \n",
       "10                       Pleth Variability Index             10–20%  \n",
       "11                      Hemoglobin concentration         12–18 g/dL  \n",
       "12                                 Stroke volume     60–100 mL/beat  \n",
       "13                                Cardiac output          4–8 L/min  \n",
       "14  Optical/near-infrared blood flow measurement     Relative units  \n",
       "15        Photoplethysmography signal parameters                NaN  \n",
       "16             Reliability indicator of readings              0–100  \n",
       "17        Chest impedance or belt-derived effort                NaN  \n",
       "18           Calculated oxygen extraction metric            0.2–0.3  \n",
       "19             Signal-to-noise ratio from sensor           20–40 dB  "
      ]
     },
     "execution_count": 6,
     "metadata": {},
     "output_type": "execute_result"
    }
   ],
   "source": [
    "sensor_variables = pd.read_csv('sensor_variable_range.csv', delimiter='\t')\n",
    "\n",
    "sensor_variables"
   ]
  },
  {
   "cell_type": "markdown",
   "id": "ff547b4f",
   "metadata": {},
   "source": [
    "### B"
   ]
  },
  {
   "cell_type": "markdown",
   "id": "4faed980",
   "metadata": {},
   "source": [
    "### C"
   ]
  },
  {
   "cell_type": "markdown",
   "id": "a294f985",
   "metadata": {},
   "source": [
    "### D"
   ]
  },
  {
   "cell_type": "markdown",
   "id": "adb95d88",
   "metadata": {},
   "source": [
    "### E"
   ]
  },
  {
   "cell_type": "markdown",
   "id": "693bd514",
   "metadata": {},
   "source": [
    "## 1.2"
   ]
  },
  {
   "cell_type": "markdown",
   "id": "5400930c",
   "metadata": {},
   "source": [
    "### A"
   ]
  },
  {
   "cell_type": "code",
   "execution_count": 7,
   "id": "db25f38b",
   "metadata": {},
   "outputs": [],
   "source": [
    "def format_dates(date_to_format):\n",
    "    # 'coerce' - will replace undefined data formats as NaT (Not a Time)\n",
    "    # 'mixed'  - try to infer the format for each value individually\n",
    "    return pd.to_datetime(date_to_format, format='mixed', errors='coerce')"
   ]
  },
  {
   "cell_type": "markdown",
   "id": "1d47a1b9",
   "metadata": {},
   "source": [
    "#### patient"
   ]
  },
  {
   "cell_type": "markdown",
   "id": "925271f9",
   "metadata": {},
   "source": [
    "Problem 1 - Inconsistent date formats"
   ]
  },
  {
   "cell_type": "code",
   "execution_count": 8,
   "id": "a8c93584",
   "metadata": {},
   "outputs": [],
   "source": [
    "patient['registration'] = format_dates(patient['registration'])\n",
    "patient['birthdate'] = format_dates(patient['birthdate'])"
   ]
  },
  {
   "cell_type": "markdown",
   "id": "80312524",
   "metadata": {},
   "source": [
    "Potential problem - Invalid or irrelevant values of blood type"
   ]
  },
  {
   "cell_type": "code",
   "execution_count": 9,
   "id": "6afd4cec",
   "metadata": {},
   "outputs": [
    {
     "name": "stdout",
     "output_type": "stream",
     "text": [
      "['A+', 'A-', 'AB+', 'AB-', 'B+', 'B-', 'O+', 'O-']\n",
      "Number of null/NaN blood group type values: 0\n"
     ]
    }
   ],
   "source": [
    "blood_group_values = patient['blood_group'].unique()\n",
    "print(sorted(blood_group_values))\n",
    "print(f\"Number of null/NaN blood group type values: {patient['blood_group'].isnull().sum()}\")\n",
    "\n",
    "### Everything is alright."
   ]
  },
  {
   "cell_type": "markdown",
   "id": "23ad1ab6",
   "metadata": {},
   "source": [
    "Problem 2 - Date of birth later than date of registration"
   ]
  },
  {
   "cell_type": "code",
   "execution_count": 10,
   "id": "661f4027",
   "metadata": {},
   "outputs": [
    {
     "name": "stdout",
     "output_type": "stream",
     "text": [
      "Number of invalid records (birthdate < registration date): 44\n"
     ]
    }
   ],
   "source": [
    "invalid_records = patient[patient['registration'] < patient['birthdate']]\n",
    "print(f\"Number of invalid records (birthdate < registration date): {len(invalid_records)}\")\n",
    "\n",
    "patient.drop(index=invalid_records.index, inplace=True)"
   ]
  },
  {
   "cell_type": "markdown",
   "id": "6ca9f48c",
   "metadata": {},
   "source": [
    "Potential problem - User duplicates (user_id, station_ID)"
   ]
  },
  {
   "cell_type": "code",
   "execution_count": 11,
   "id": "373ece41",
   "metadata": {},
   "outputs": [
    {
     "name": "stdout",
     "output_type": "stream",
     "text": [
      "Number of invalid records (user_id duplicates): 0\n"
     ]
    }
   ],
   "source": [
    "duplicates = patient[patient[['user_id','station_ID']].duplicated(keep=False)]\n",
    "print(f\"Number of invalid records (user_id duplicates): {len(duplicates)}\")\n",
    "\n",
    "patient.drop(index=duplicates.index, inplace=True)"
   ]
  },
  {
   "cell_type": "markdown",
   "id": "7e50d2f5",
   "metadata": {},
   "source": [
    "Potential problem - Missed values"
   ]
  },
  {
   "cell_type": "code",
   "execution_count": 12,
   "id": "404aa206",
   "metadata": {},
   "outputs": [
    {
     "name": "stdout",
     "output_type": "stream",
     "text": [
      "Number of missing values per attribute in `patient` table: \n",
      "username           0\n",
      "mail               0\n",
      "job             1452\n",
      "address          313\n",
      "registration       0\n",
      "name               0\n",
      "blood_group        0\n",
      "residence       2080\n",
      "birthdate        956\n",
      "user_id            0\n",
      "ssn                0\n",
      "company            0\n",
      "station_ID         0\n",
      "dtype: int64\n"
     ]
    }
   ],
   "source": [
    "patient_misses = patient.isnull().sum()\n",
    "print(f\"Number of missing values per attribute in `patient` table: \\n{patient_misses}\")"
   ]
  },
  {
   "cell_type": "markdown",
   "id": "7d943d6a",
   "metadata": {},
   "source": [
    "#### station"
   ]
  },
  {
   "cell_type": "markdown",
   "id": "cda6afe2",
   "metadata": {},
   "source": [
    "Problem 1 - Inconsistent date formats"
   ]
  },
  {
   "cell_type": "code",
   "execution_count": 13,
   "id": "a3607b55",
   "metadata": {},
   "outputs": [],
   "source": [
    "station['revision'] = format_dates(station['revision'])"
   ]
  },
  {
   "cell_type": "markdown",
   "id": "3f2162d6",
   "metadata": {},
   "source": [
    "Potential problem - Incorrect/Missing latitude and/or longitude values"
   ]
  },
  {
   "cell_type": "code",
   "execution_count": 14,
   "id": "d6fec52d",
   "metadata": {},
   "outputs": [
    {
     "name": "stdout",
     "output_type": "stream",
     "text": [
      "Number of records with incorrect latitude: 0\n",
      "Number of records with incorrect longitude: 0\n",
      "Number of records with missing coordinates: 0\n"
     ]
    }
   ],
   "source": [
    "wrong_latitude = station[(station['latitude'] < -90) | (station['latitude'] > 90)]\n",
    "wrong_longitude = station[(station['latitude'] < -180) | (station['latitude'] > 180)]\n",
    "missing_coordinates = station[station['latitude'].isna() | station['longitude'].isna()]\n",
    "print(f\"Number of records with incorrect latitude: {len(wrong_latitude)}\")\n",
    "print(f\"Number of records with incorrect longitude: {len(wrong_longitude)}\")\n",
    "print(f\"Number of records with missing coordinates: {len(missing_coordinates)}\")"
   ]
  },
  {
   "cell_type": "markdown",
   "id": "3b0157b7",
   "metadata": {},
   "source": [
    "Potential problem - Duplicates"
   ]
  },
  {
   "cell_type": "code",
   "execution_count": 15,
   "id": "eb621fe6",
   "metadata": {},
   "outputs": [
    {
     "name": "stdout",
     "output_type": "stream",
     "text": [
      "Number of duplicated records: 0\n"
     ]
    }
   ],
   "source": [
    "station_duplicates = station.duplicated().sum()\n",
    "print(f\"Number of duplicated records: {station_duplicates}\")"
   ]
  },
  {
   "cell_type": "markdown",
   "id": "820e6f2c",
   "metadata": {},
   "source": [
    "Potential problem - Missed values"
   ]
  },
  {
   "cell_type": "code",
   "execution_count": 16,
   "id": "66627944",
   "metadata": {},
   "outputs": [
    {
     "name": "stdout",
     "output_type": "stream",
     "text": [
      "Number of missing values per attribute in `station` table: \n",
      "longitude    0\n",
      "location     0\n",
      "code         0\n",
      "revision     0\n",
      "station      0\n",
      "latitude     0\n",
      "dtype: int64\n"
     ]
    }
   ],
   "source": [
    "station_misses = station.isnull().sum()\n",
    "print(f\"Number of missing values per attribute in `station` table: \\n{station_misses}\")"
   ]
  },
  {
   "cell_type": "markdown",
   "id": "51a3e8e3",
   "metadata": {},
   "source": [
    "#### observation"
   ]
  },
  {
   "cell_type": "markdown",
   "id": "8d66f18e",
   "metadata": {},
   "source": [
    "Potential problem - Wrong data type (invalid or inconsistent entries)"
   ]
  },
  {
   "cell_type": "code",
   "execution_count": 17,
   "id": "29d6a31c",
   "metadata": {},
   "outputs": [
    {
     "name": "stdout",
     "output_type": "stream",
     "text": [
      "<class 'pandas.core.frame.DataFrame'>\n",
      "RangeIndex: 10800 entries, 0 to 10799\n",
      "Data columns (total 23 columns):\n",
      " #   Column                 Non-Null Count  Dtype  \n",
      "---  ------                 --------------  -----  \n",
      " 0   SpO₂                   10800 non-null  float64\n",
      " 1   HR                     10800 non-null  float64\n",
      " 2   PI                     10800 non-null  float64\n",
      " 3   RR                     10800 non-null  float64\n",
      " 4   EtCO₂                  10800 non-null  float64\n",
      " 5   FiO₂                   10800 non-null  float64\n",
      " 6   PRV                    10800 non-null  float64\n",
      " 7   BP                     10800 non-null  float64\n",
      " 8   Skin Temperature       10800 non-null  float64\n",
      " 9   Motion/Activity index  10800 non-null  float64\n",
      " 10  PVI                    10800 non-null  float64\n",
      " 11  Hb level               10800 non-null  float64\n",
      " 12  SV                     10800 non-null  float64\n",
      " 13  CO                     10800 non-null  float64\n",
      " 14  Blood Flow Index       10800 non-null  float64\n",
      " 15  PPG waveform features  10800 non-null  float64\n",
      " 16  Signal Quality Index   10800 non-null  float64\n",
      " 17  Respiratory effort     10800 non-null  float64\n",
      " 18  O₂ extraction ratio    10800 non-null  float64\n",
      " 19  SNR                    10800 non-null  float64\n",
      " 20  oximetry               10800 non-null  float64\n",
      " 21  latitude               10800 non-null  float64\n",
      " 22  longitude              10799 non-null  float64\n",
      "dtypes: float64(23)\n",
      "memory usage: 1.9 MB\n"
     ]
    }
   ],
   "source": [
    "observation.info()"
   ]
  },
  {
   "cell_type": "markdown",
   "id": "02dd3a59",
   "metadata": {},
   "source": [
    "Potential problem - Incorrect/Missing latitude and/or longitude values"
   ]
  },
  {
   "cell_type": "code",
   "execution_count": 18,
   "id": "c687bd2c",
   "metadata": {},
   "outputs": [
    {
     "name": "stdout",
     "output_type": "stream",
     "text": [
      "Number of records with incorrect latitude: 0\n",
      "Number of records with incorrect longitude: 0\n",
      "Number of records with missing coordinates: 1\n"
     ]
    }
   ],
   "source": [
    "wrong_latitude = observation[(observation['latitude'] < -90) | (observation['latitude'] > 90)]\n",
    "wrong_longitude = observation[(observation['latitude'] < -180) | (observation['latitude'] > 180)]\n",
    "missing_coordinates = observation[observation['latitude'].isna() | observation['longitude'].isna()]\n",
    "print(f\"Number of records with incorrect latitude: {len(wrong_latitude)}\")\n",
    "print(f\"Number of records with incorrect longitude: {len(wrong_longitude)}\")\n",
    "print(f\"Number of records with missing coordinates: {len(missing_coordinates)}\")"
   ]
  },
  {
   "cell_type": "markdown",
   "id": "1c7aa5e9",
   "metadata": {},
   "source": [
    "Potential problem - Duplicates"
   ]
  },
  {
   "cell_type": "code",
   "execution_count": 19,
   "id": "4c574fc1",
   "metadata": {},
   "outputs": [
    {
     "name": "stdout",
     "output_type": "stream",
     "text": [
      "Number of duplicated records: 0\n"
     ]
    }
   ],
   "source": [
    "observation_duplicates = observation.duplicated().sum()\n",
    "print(f\"Number of duplicated records: {observation_duplicates}\")"
   ]
  },
  {
   "cell_type": "markdown",
   "id": "41428ec4",
   "metadata": {},
   "source": [
    "Potential problem - Missed values"
   ]
  },
  {
   "cell_type": "code",
   "execution_count": 20,
   "id": "ec59875c",
   "metadata": {},
   "outputs": [
    {
     "name": "stdout",
     "output_type": "stream",
     "text": [
      "Number of missing values per attribute in `observation` table: \n",
      "SpO₂                     0\n",
      "HR                       0\n",
      "PI                       0\n",
      "RR                       0\n",
      "EtCO₂                    0\n",
      "FiO₂                     0\n",
      "PRV                      0\n",
      "BP                       0\n",
      "Skin Temperature         0\n",
      "Motion/Activity index    0\n",
      "PVI                      0\n",
      "Hb level                 0\n",
      "SV                       0\n",
      "CO                       0\n",
      "Blood Flow Index         0\n",
      "PPG waveform features    0\n",
      "Signal Quality Index     0\n",
      "Respiratory effort       0\n",
      "O₂ extraction ratio      0\n",
      "SNR                      0\n",
      "oximetry                 0\n",
      "latitude                 0\n",
      "longitude                1\n",
      "dtype: int64\n"
     ]
    }
   ],
   "source": [
    "observation_misses = observation.isnull().sum()\n",
    "print(f\"Number of missing values per attribute in `observation` table: \\n{observation_misses}\")"
   ]
  },
  {
   "cell_type": "markdown",
   "id": "435e1acf",
   "metadata": {},
   "source": [
    "### B"
   ]
  },
  {
   "cell_type": "code",
   "execution_count": null,
   "id": "afc4b55e",
   "metadata": {},
   "outputs": [
    {
     "data": {
      "text/plain": [
       "SpO₂                     0\n",
       "HR                       0\n",
       "PI                       0\n",
       "RR                       0\n",
       "EtCO₂                    0\n",
       "FiO₂                     0\n",
       "PRV                      0\n",
       "BP                       0\n",
       "Skin Temperature         0\n",
       "Motion/Activity index    0\n",
       "PVI                      0\n",
       "Hb level                 0\n",
       "SV                       0\n",
       "CO                       0\n",
       "Blood Flow Index         0\n",
       "PPG waveform features    0\n",
       "Signal Quality Index     0\n",
       "Respiratory effort       0\n",
       "O₂ extraction ratio      0\n",
       "SNR                      0\n",
       "dtype: int64"
      ]
     },
     "execution_count": 21,
     "metadata": {},
     "output_type": "execute_result"
    }
   ],
   "source": [
    "def get_range():\n",
    "    str_range = sensor_variables.apply(lambda row: str(row['Value Range']).replace(str(row['Unit']), ''), axis=1)\n",
    "    str_range = str_range.apply(lambda row: row.strip())\n",
    "    str_range = str_range.to_list()\n",
    "    str_range = [rng if rng not in ['nan', 'Relative units'] else '' for rng in str_range]\n",
    "\n",
    "    value_range = []\n",
    "    for rng in str_range:\n",
    "        if rng == '':\n",
    "            value_range.append([None, None])\n",
    "        else:\n",
    "            range = rng.split('–')\n",
    "            range = [range[0].split('/')[0], range[1].split('/')[0]]\n",
    "            value_range.append(range)\n",
    "\n",
    "    sensor_variables['min_value'] = [float(x[0]) if x[0] is not None else None for x in value_range]\n",
    "    sensor_variables['max_value'] = [float(x[1]) if x[1] is not None else None for x in value_range]\n",
    "\n",
    "get_range()\n",
    "sensor_variables\n",
    "\n",
    "# get list of attributes\n",
    "attributes = [attr for attr in observation.columns if attr in sensor_variables['Variable'].values]\n",
    "\n",
    "# empty DataFrame for counting violations\n",
    "out_of_range = pd.DataFrame(False, index=observation.index, columns=attributes)\n",
    "\n",
    "for attr in attributes:\n",
    "    min = sensor_variables.loc[sensor_variables['Variable'] == attr, 'min_value'].values[0]\n",
    "    max = sensor_variables.loc[sensor_variables['Variable'] == attr, 'max_value'].values[0]\n",
    "    \n",
    "    for idx, val in observation[attr].items():\n",
    "        if pd.isna(val):\n",
    "            continue  # NaN in value skip\n",
    "        if pd.isna(min) or pd.isna(max):\n",
    "            continue  # NaN in range skip\n",
    "        if val < min or val > max:\n",
    "            out_of_range.at[idx, attr] = True\n",
    "# count number of violations per attribute\n",
    "violations_count = out_of_range.sum()\n",
    "violations_count"
   ]
  },
  {
   "cell_type": "code",
   "execution_count": 22,
   "id": "c8dd251e",
   "metadata": {},
   "outputs": [
    {
     "data": {
      "text/plain": [
       "SpO₂                       93\n",
       "HR                          0\n",
       "PI                         14\n",
       "RR                          0\n",
       "EtCO₂                       0\n",
       "FiO₂                       69\n",
       "PRV                        71\n",
       "BP                         71\n",
       "Skin Temperature          112\n",
       "Motion/Activity index      88\n",
       "PVI                        58\n",
       "Hb level                  129\n",
       "SV                         66\n",
       "CO                       1429\n",
       "Blood Flow Index           72\n",
       "PPG waveform features      79\n",
       "Signal Quality Index       64\n",
       "Respiratory effort         98\n",
       "O₂ extraction ratio         0\n",
       "SNR                         0\n",
       "dtype: int64"
      ]
     },
     "execution_count": 22,
     "metadata": {},
     "output_type": "execute_result"
    }
   ],
   "source": [
    "def get_outliers_iqr(input_observation):\n",
    "    outliers_iqr = pd.DataFrame(False, index=input_observation.index, columns=attributes)\n",
    "\n",
    "    for attr in attributes:\n",
    "        Q1 = input_observation[attr].quantile(0.25)\n",
    "        Q3 = input_observation[attr].quantile(0.75)\n",
    "        IQR = Q3 - Q1\n",
    "        lower = Q1 - 1.5 * IQR\n",
    "        upper = Q3 + 1.5 * IQR\n",
    "        \n",
    "        outliers_iqr[attr] = (input_observation[attr] < lower) | (input_observation[attr] > upper)\n",
    "    return outliers_iqr\n",
    "\n",
    "get_outliers_iqr(observation).sum()"
   ]
  },
  {
   "cell_type": "code",
   "execution_count": null,
   "id": "1fbd11e2",
   "metadata": {},
   "outputs": [
    {
     "data": {
      "text/plain": [
       "2992"
      ]
     },
     "execution_count": 76,
     "metadata": {},
     "output_type": "execute_result"
    }
   ],
   "source": [
    "#observation_no_outliers = observation[~get_outliers_iqr(observation).any(axis=1)] # one try is not enough\n",
    "\n",
    "def remove_outliers(input_observation):\n",
    "    observation_no_outliers = input_observation.copy()\n",
    "\n",
    "    while True:\n",
    "        if int(get_outliers_iqr(observation_no_outliers).sum().sum()) == 0:\n",
    "            break\n",
    "\n",
    "        observation_no_outliers = observation_no_outliers[~get_outliers_iqr(observation_no_outliers).any(axis=1)]\n",
    "\n",
    "    return observation_no_outliers\n",
    "\n",
    "# get_outliers_iqr(observation_no_outliers).sum()\n",
    "observation_no_outliers = remove_outliers(observation)\n",
    "get_outliers_iqr(observation_no_outliers).sum()\n",
    "abs(len(observation_no_outliers) - len(observation))\n",
    "#len(observation_no_outliers)\n",
    "# observation_no_outliers['']"
   ]
  },
  {
   "cell_type": "code",
   "execution_count": 78,
   "id": "a2acc5c8",
   "metadata": {},
   "outputs": [
    {
     "data": {
      "text/plain": [
       "SpO₂                     0\n",
       "HR                       0\n",
       "PI                       0\n",
       "RR                       0\n",
       "EtCO₂                    0\n",
       "FiO₂                     0\n",
       "PRV                      0\n",
       "BP                       0\n",
       "Skin Temperature         0\n",
       "Motion/Activity index    0\n",
       "PVI                      0\n",
       "Hb level                 0\n",
       "SV                       0\n",
       "CO                       0\n",
       "Blood Flow Index         0\n",
       "PPG waveform features    0\n",
       "Signal Quality Index     0\n",
       "Respiratory effort       0\n",
       "O₂ extraction ratio      0\n",
       "SNR                      0\n",
       "dtype: int64"
      ]
     },
     "execution_count": 78,
     "metadata": {},
     "output_type": "execute_result"
    }
   ],
   "source": [
    "def replace_outliers(input_observation):\n",
    "    observation_replaced_outliers = input_observation.copy()\n",
    "    bias = 0.14\n",
    "\n",
    "    for attr in attributes:\n",
    "        lower = input_observation[attr].quantile(bias)\n",
    "        upper = input_observation[attr].quantile(1.00 - bias)\n",
    "\n",
    "        observation_replaced_outliers[attr] = observation_replaced_outliers[attr].mask(input_observation[attr] < lower, lower)\n",
    "        observation_replaced_outliers[attr] = observation_replaced_outliers[attr].mask(input_observation[attr] > upper, upper)\n",
    "    return observation_replaced_outliers\n",
    "#get_outliers_iqr(observation).sum()\n",
    "get_outliers_iqr(replace_outliers(observation)).sum()"
   ]
  },
  {
   "cell_type": "markdown",
   "id": "5ea36752",
   "metadata": {},
   "source": [
    "### C"
   ]
  }
 ],
 "metadata": {
  "kernelspec": {
   "display_name": "iau",
   "language": "python",
   "name": "python3"
  },
  "language_info": {
   "codemirror_mode": {
    "name": "ipython",
    "version": 3
   },
   "file_extension": ".py",
   "mimetype": "text/x-python",
   "name": "python",
   "nbconvert_exporter": "python",
   "pygments_lexer": "ipython3",
   "version": "3.13.7"
  }
 },
 "nbformat": 4,
 "nbformat_minor": 5
}
